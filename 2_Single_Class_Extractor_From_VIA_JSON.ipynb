{
  "nbformat": 4,
  "nbformat_minor": 0,
  "metadata": {
    "colab": {
      "provenance": []
    },
    "kernelspec": {
      "name": "python3",
      "display_name": "Python 3"
    },
    "language_info": {
      "name": "python"
    }
  },
  "cells": [
    {
      "cell_type": "markdown",
      "source": [
        "To parse through your Mask R-CNN annotations (in.json format) and extract all instances of \"car\" as separate objects within a single.json output file:\n"
      ],
      "metadata": {
        "id": "sjHOiN9c-Jn-"
      }
    },
    {
      "cell_type": "code",
      "execution_count": null,
      "metadata": {
        "id": "QJI0bwco9xu6"
      },
      "outputs": [],
      "source": [
        "# Import required libraries:\n",
        "import json # For reading/writing.json files\n",
        "from collections import defaultdict # To create nested dictionaries\n",
        "​\n",
        "\n",
        "# Define function `parse_via` which takes path to input.json file and list of desired object names (\"cars\"):\n",
        "\n",
        "def parse_via(input_file, obj_names):\n",
        "  \"\"\"Extracts specified objects from.json file into VGG Image Annotator(.VIA).\"\"\"\n",
        "​\n",
        "  with open(input_file, 'r') as f:\n",
        "      data = json.load(f)\n",
        "  \n",
        "  out_data = {'version': data['version'],\n",
        "              'flags': {}, \n",
        "              'shapes': [], \n",
        "              'imagePath' : []}\n",
        "  \n",
        "  shapes_by_img = defaultdict(list)\n",
        "  for shape in data['shapes']:\n",
        "      \n",
        "      if shape['label'] not in obj_names:\n",
        "          continue\n",
        "​\n",
        "      x, y, w, h = shape['points'][0],shape['points'][1],\\\n",
        "                    shape['points'][2]-shape['points'][0]+1,\\\n",
        "                    shape['points'][3]-shape['points'][1]+1\n",
        "                    \n",
        "      img_id = int(shape['group_id']) // 1000 \n",
        "      shapes_by_img[img_id].append({'label': shape['label'],\n",
        "                                    'line_color': None,\n",
        "                                    'fill_color': None,\n",
        "                                    'points': [x,y,w,h]})\n",
        "      \n",
        "  for i,(k,v) in enumerate(sorted(shapes_by_img.items())):\n",
        "      out_data['imagePath'].append('frame_{:06d}.jpg'.format(i))\n",
        "      out_data['shapes'].extend(v)\n",
        "      \n",
        "  return out_data\n",
        "​\n",
        "\n",
        "# Call this function on your.json file containing Mask RCNN annotations:\n",
        "\n",
        "obj_names=['car']\n",
        "out=parse_via(\"maskrcnn_annotations.json\", obj_names)\n",
        "​\n",
        "\n",
        "# Save extracted car masks using.json extension:\n",
        "\n",
        "with open(\"output_car_masks.json\",\"w\")as fp:\n",
        "  json.dump(out,fp)\n",
        "​"
      ]
    },
    {
      "cell_type": "markdown",
      "source": [
        "This will generate a new.json file called \"output\\_car\\_masks.json\". This contains only those objects whose label is present in the provided \n",
        "list \"obj\\_names\". Their corresponding bounding boxes are also included alongside their respective image paths."
      ],
      "metadata": {
        "id": "1dlt4GRO97yl"
      }
    }
  ]
}