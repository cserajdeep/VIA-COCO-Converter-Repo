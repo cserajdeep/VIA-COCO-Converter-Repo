{
  "nbformat": 4,
  "nbformat_minor": 0,
  "metadata": {
    "colab": {
      "provenance": []
    },
    "kernelspec": {
      "name": "python3",
      "display_name": "Python 3"
    },
    "language_info": {
      "name": "python"
    }
  },
  "cells": [
    {
      "cell_type": "markdown",
      "source": [
        "# To extract specific annotation data from a superset original VIA JSON file"
      ],
      "metadata": {
        "id": "FjbjD1onmNRw"
      }
    },
    {
      "cell_type": "code",
      "execution_count": 1,
      "metadata": {
        "id": "ClE0ywxwo-pU"
      },
      "outputs": [],
      "source": [
        "import json\n",
        "import tqdm\n",
        "from pycocotools.coco import COCO"
      ]
    },
    {
      "cell_type": "markdown",
      "source": [
        "## Load original dataset"
      ],
      "metadata": {
        "id": "gDBKQdcukOdR"
      }
    },
    {
      "cell_type": "code",
      "source": [
        "data = COCO(\"annotations.json\")"
      ],
      "metadata": {
        "id": "c_zb4H5jj_6r"
      },
      "execution_count": null,
      "outputs": []
    },
    {
      "cell_type": "markdown",
      "source": [
        "# Create lists to hold filtered data"
      ],
      "metadata": {
        "id": "CXCfF937kSiZ"
      }
    },
    {
      "cell_type": "code",
      "source": [
        "anns = [] # list to store final annotations\n",
        "cats = [] # list to store unique categories\n",
        "imgs = {} # dict to map img id to index in ann array"
      ],
      "metadata": {
        "id": "-aF5BooSkaZ2"
      },
      "execution_count": null,
      "outputs": []
    },
    {
      "cell_type": "markdown",
      "source": [
        "# Loop through each image"
      ],
      "metadata": {
        "id": "MBPqSBf5kffw"
      }
    },
    {
      "cell_type": "code",
      "source": [
        "# Get image info and annotations\n",
        "for iid in tqdm.tqdm(data.getImgIds()):\n",
        "  iminfo = data.loadImgs([iid])[0]\n",
        "  anns += data.imgToAnns[iid]\n",
        "\n",
        "  # Filter annotations by category - assume there is just one!\n",
        "  catids = [a[\"category_id\"] for a in anns if a['image_id'] == iid]\n",
        "\n",
        "  if len(catids) > 1 or catids!= [2]:\n",
        "    continue\n",
        "\n",
        "  cats += [{\"supercategory\": \"none\", \"id\": cid, \"name\": cname} for cid,cname in enumerate(set([c[\"name\"] for c in data.loadCats(catids)]))]\n",
        "\n",
        "  # Map current image ID to its index in the final annotations/images arrays\n",
        "  imgs[iid] = len(anns)-len(catids)\n",
        "\n",
        "  # Write filtered results to new files\n",
        "  with open('cars_train.json', 'w') as f:\n",
        "    json.dump({\"categories\": cats,\"annotations\": [anns[i] for i in range(len(anns))if anns[i]['iscrowd']==0],\"images\": [iminfo for _,iminfo in sorted(imgs.items())]},f)\n",
        "\n",
        "  with open('cars_val.json', 'w') as f:\n",
        "    json.dump({\"categories\": cats,\"annotations\": [anns[i] for i in range(len(anns))if anns[i]['iscrowd']==0],\"images\": [iminfo for _,iminfo in sorted(imgs.items())][5:]},f)"
      ],
      "metadata": {
        "id": "zvJjTOFqkpe8"
      },
      "execution_count": null,
      "outputs": []
    },
    {
      "cell_type": "markdown",
      "source": [
        "# Copy images from one folder to another based on annotation"
      ],
      "metadata": {
        "id": "-35FPRkPlupT"
      }
    },
    {
      "cell_type": "code",
      "source": [
        "import os\n",
        "import shutil\n",
        "\n",
        "os.makedirs(\"cars\", exist_ok=True)   # change 'car' class as per your requirement \n",
        "\n",
        "# Copy relevant images to subfolder\n",
        "for fname in tqdm([\"%d.jpg\" % iid for iid in imgs]):\n",
        "  srcfile = os.path.join(\"/path/to/original/images/\",fname)\n",
        "  destfile = os.path.join(\"cars\",fname)\n",
        "  shutil.copyfile(srcfile,destfile)"
      ],
      "metadata": {
        "id": "olY5cBTtk7Ym"
      },
      "execution_count": null,
      "outputs": []
    }
  ]
}