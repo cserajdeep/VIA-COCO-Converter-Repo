{
  "nbformat": 4,
  "nbformat_minor": 0,
  "metadata": {
    "colab": {
      "provenance": []
    },
    "kernelspec": {
      "name": "python3",
      "display_name": "Python 3"
    },
    "language_info": {
      "name": "python"
    }
  },
  "cells": [
    {
      "cell_type": "markdown",
      "source": [
        "You can use the `pycococreatortools` library, which is a Python implementation of Microsoft's COCO API. <br>\n",
        "Here are some examples on how you could convert your VGG XML annotations into JSON format using this library in python:\n",
        "\n",
        "First install pycococreator tools by running **pip install git+https://github.com/waspinator/pycococreator.git@0.2.0#egg=pycococreatortools**"
      ],
      "metadata": {
        "id": "uxqXeHrejWGw"
      }
    },
    {
      "cell_type": "code",
      "execution_count": null,
      "metadata": {
        "id": "Mejq0WPuigr1"
      },
      "outputs": [],
      "source": [
        "# Then import it and create an instance of the Converter class like so :\n",
        "# Assume vgg_annotations.xml is the original XML annotation file with root folder path path/to/images/\n",
        "from pycococreatortools import CocoDatasetConverter\n",
        "converter = CocoDatasetConverter(annotation_file='path/to/your/vgg_annotations.xml', image_root='path/to/images/')\n",
        "\n",
        "# Optionally filter out unwanted classes or images\n",
        "filtered_classes = ['cat'] # change the class name as per the requirement\n",
        "filtered_images = [r'C:\\Users\\User\\Pictures\\ImageFolder\\*jpg'] #change the image folder's path\n",
        "converter.convert(filtered_classes=filtered_classes, filtered_images=filtered_images)\n",
        "\n",
        "# Finally save the converted dataset as a json file\n",
        "output_json_filepath = 'output_dataset.json' # obtained JSON file from the existing XML annotation file\n",
        "converter.save_as_json(output_json_filepath)"
      ]
    },
    {
      "cell_type": "markdown",
      "source": [
        "This will generate a new json file called \"output\\_dataset.json\" that contains only the cat objects present in the original vgg xml annotations.\n",
        "Note that if you don't want to manually specify all these parameters every time, you can also set them up once when creating the Converter object instead (see documentation for more details)."
      ],
      "metadata": {
        "id": "PBrdEs0OjR2X"
      }
    }
  ]
}