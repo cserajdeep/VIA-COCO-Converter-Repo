{
  "nbformat": 4,
  "nbformat_minor": 0,
  "metadata": {
    "colab": {
      "provenance": []
    },
    "kernelspec": {
      "name": "python3",
      "display_name": "Python 3"
    },
    "language_info": {
      "name": "python"
    }
  },
  "cells": [
    {
      "cell_type": "code",
      "execution_count": null,
      "metadata": {
        "id": "89ZLQTZV-0hn"
      },
      "outputs": [],
      "source": [
        "# Import the necessary libraries for working with data and creating directories, etc.:\n",
        "import os\n",
        "import json \n",
        "from shutil import copyfile\n",
        "​\n",
        "\n",
        "# Define the source (input) and destination (output) folders where your Mask RCNN model is saved alongside its annotations/JSON file:\n",
        "src_dir = '/path/to/your/MaskRCNN/model' # replace this path with yours\n",
        "anns_json = 'instances_default.json'     # or whichever name you gave it when training your model\n",
        "dest_dir = '/destination/folder/'        # create if doesn't exist already\n",
        "​\n",
        "\n",
        "# Load the contents of the annotations JSON file into memory using `json` library's built-in function `load`:\n",
        "with open(os.path.join(src_dir, anns_json), \"r\") as f:\n",
        "  ann_data = json.load(f)\n",
        "​\n",
        "\n",
        "# Loop through all the entries in the loaded dictionary (`ann_data`) and extract only those that correspond to instances of class `\"image\"`\n",
        "# - these are the actual images themselves:\n",
        " \n",
        "img_files = [entry['filename'] for entry in ann_data['images'] \n",
        "            if entry['category_id']==1]    # assuming category ID=1 corresponds to \"image\" objects\n",
        "​\n",
        "\n",
        "# Create new subdirectories under `dest_dir`, named after their corresponding categories found in the original dataset:\n",
        "for catg in set([e['supercategory'] for e in ann_data['categories']]):\n",
        "  dest_subdir = os.path.join(dest_dir, catg) \n",
        "  try:\n",
        "    os.makedirs(dest_subdir)  \n",
        "  except FileExistsError: \n",
        "    pass     # ignore error if dir exists already\n",
        "​\n",
        "\n",
        "# Copy each extracted image file from `src_dir` to its respective subdirectory inside `dest_dir`. The filenames will be preserved exactly \n",
        "# as they were beforehand:\n",
        " \n",
        "for fn in img_files:  \n",
        "  src_img = os.path.join(src_dir, fn)    \n",
        "  _, ext = os.path.splitext(fn)      # get extension without dot\n",
        "  for ctg in [c['name'] for c in ann_data['categories']]:    \n",
        "    dest_ctg_dir = os.path.join(dest_dir, ctg)        \n",
        "    dest_img = os.path.join(dest_ctg_dir, fn + ext)   \n",
        "    try:\n",
        "      copyfile(src_img, dest_img)\n",
        "    except FileNotFoundError:        # handle missing files gracefully\n",
        "      continue"
      ]
    },
    {
      "cell_type": "markdown",
      "source": [
        "Your unique images have been copied successfully according to their supercategories defined by your Mask R-CNN model. You can now\n",
        "use them for further processing like fine tuning machine learning models, generating thumbnails, resizing, augmenting, etc., depending on \n",
        "what kind of tasks you want to perform with them."
      ],
      "metadata": {
        "id": "pYs83D5F--2a"
      }
    }
  ]
}